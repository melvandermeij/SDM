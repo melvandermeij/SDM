{
 "cells": [
  {
   "cell_type": "code",
   "execution_count": 26,
   "metadata": {},
   "outputs": [],
   "source": [
    "import pandas as pd\n",
    "import numpy as np\n",
    "from sklearn.metrics.pairwise import cosine_similarity\n",
    "from sklearn.metrics import mean_squared_error\n",
    "from tqdm import tqdm\n",
    "import warnings\n",
    "warnings.filterwarnings(\"ignore\")\n",
    "import matplotlib.pyplot as plt"
   ]
  },
  {
   "cell_type": "code",
   "execution_count": 33,
   "metadata": {},
   "outputs": [
    {
     "name": "stdout",
     "output_type": "stream",
     "text": [
      "Original shape: (1000209, 14)\n"
     ]
    }
   ],
   "source": [
    "# === Step 1: Load Data ===\n",
    "ratings = pd.read_csv('combined_ratings.csv')\n",
    "print(\"Original shape:\", ratings.shape)"
   ]
  },
  {
   "cell_type": "code",
   "execution_count": 34,
   "metadata": {},
   "outputs": [
    {
     "name": "stdout",
     "output_type": "stream",
     "text": [
      "Filtered shape: (934040, 14)\n"
     ]
    }
   ],
   "source": [
    "# === Step 2: Filter & Clean ===\n",
    "# Filter out users/movies with few ratings\n",
    "min_user_ratings = 44\n",
    "min_movie_ratings = 50\n",
    "\n",
    "user_counts = ratings['UserID'].value_counts()\n",
    "movie_counts = ratings['MovieID'].value_counts()\n",
    "\n",
    "ratings = ratings[ratings['UserID'].isin(user_counts[user_counts >= min_user_ratings].index)]\n",
    "ratings = ratings[ratings['MovieID'].isin(movie_counts[movie_counts >= min_movie_ratings].index)]\n",
    "print(\"Filtered shape:\", ratings.shape)"
   ]
  },
  {
   "cell_type": "code",
   "execution_count": 43,
   "metadata": {},
   "outputs": [],
   "source": [
    "# === Step 3: Feature Engineering ===\n",
    "# Normalize ratings per user (mean centering)\n",
    "ratings['Rating_normalized'] = ratings.groupby('UserID')['Rating'].transform(lambda x: x - x.mean())\n",
    "\n",
    "# Optional: create user demographic features (can be used later for fairness or hybrid filtering)\n",
    "user_features = ratings[['UserID', 'Gender', 'Age', 'Occupation']].drop_duplicates().set_index('UserID')"
   ]
  },
  {
   "cell_type": "code",
   "execution_count": 40,
   "metadata": {},
   "outputs": [
    {
     "name": "stdout",
     "output_type": "stream",
     "text": [
      "User-item matrix shape: (4558, 2514)\n"
     ]
    }
   ],
   "source": [
    "# === Step 4: Create User-Item Matrix ===\n",
    "user_item_matrix = ratings.pivot_table(index='UserID', columns='MovieID', values='Rating_normalized')\n",
    "print(\"User-item matrix shape:\", user_item_matrix.shape)"
   ]
  },
  {
   "cell_type": "code",
   "execution_count": 41,
   "metadata": {},
   "outputs": [],
   "source": [
    "# === Step 5: Train/Test Split (Custom per user) ===\n",
    "train_matrix = user_item_matrix.copy() * np.nan\n",
    "test_matrix = user_item_matrix.copy() * np.nan\n",
    "\n",
    "for user_id in user_item_matrix.index:\n",
    "    user_ratings = user_item_matrix.loc[user_id].dropna()\n",
    "    if len(user_ratings) < 5:\n",
    "        continue\n",
    "    shuffled = user_ratings.sample(frac=1, random_state=42)\n",
    "    cutoff = int(0.8 * len(shuffled))\n",
    "    train_matrix.loc[user_id, shuffled.index[:cutoff]] = shuffled.values[:cutoff]\n",
    "    test_matrix.loc[user_id, shuffled.index[cutoff:]] = shuffled.values[cutoff:]"
   ]
  },
  {
   "cell_type": "code",
   "execution_count": 15,
   "metadata": {},
   "outputs": [
    {
     "data": {
      "text/html": [
       "<div>\n",
       "<style scoped>\n",
       "    .dataframe tbody tr th:only-of-type {\n",
       "        vertical-align: middle;\n",
       "    }\n",
       "\n",
       "    .dataframe tbody tr th {\n",
       "        vertical-align: top;\n",
       "    }\n",
       "\n",
       "    .dataframe thead th {\n",
       "        text-align: right;\n",
       "    }\n",
       "</style>\n",
       "<table border=\"1\" class=\"dataframe\">\n",
       "  <thead>\n",
       "    <tr style=\"text-align: right;\">\n",
       "      <th></th>\n",
       "      <th>UserID</th>\n",
       "      <th>MovieID</th>\n",
       "      <th>Rating</th>\n",
       "    </tr>\n",
       "  </thead>\n",
       "  <tbody>\n",
       "    <tr>\n",
       "      <th>0</th>\n",
       "      <td>1</td>\n",
       "      <td>594</td>\n",
       "      <td>-0.188679</td>\n",
       "    </tr>\n",
       "    <tr>\n",
       "      <th>1</th>\n",
       "      <td>1</td>\n",
       "      <td>661</td>\n",
       "      <td>-1.188679</td>\n",
       "    </tr>\n",
       "    <tr>\n",
       "      <th>2</th>\n",
       "      <td>1</td>\n",
       "      <td>914</td>\n",
       "      <td>-1.188679</td>\n",
       "    </tr>\n",
       "    <tr>\n",
       "      <th>3</th>\n",
       "      <td>1</td>\n",
       "      <td>1028</td>\n",
       "      <td>0.811321</td>\n",
       "    </tr>\n",
       "    <tr>\n",
       "      <th>4</th>\n",
       "      <td>1</td>\n",
       "      <td>1035</td>\n",
       "      <td>0.811321</td>\n",
       "    </tr>\n",
       "    <tr>\n",
       "      <th>...</th>\n",
       "      <td>...</td>\n",
       "      <td>...</td>\n",
       "      <td>...</td>\n",
       "    </tr>\n",
       "    <tr>\n",
       "      <th>188621</th>\n",
       "      <td>6040</td>\n",
       "      <td>3504</td>\n",
       "      <td>0.422961</td>\n",
       "    </tr>\n",
       "    <tr>\n",
       "      <th>188622</th>\n",
       "      <td>6040</td>\n",
       "      <td>3543</td>\n",
       "      <td>0.422961</td>\n",
       "    </tr>\n",
       "    <tr>\n",
       "      <th>188623</th>\n",
       "      <td>6040</td>\n",
       "      <td>3671</td>\n",
       "      <td>0.422961</td>\n",
       "    </tr>\n",
       "    <tr>\n",
       "      <th>188624</th>\n",
       "      <td>6040</td>\n",
       "      <td>3751</td>\n",
       "      <td>0.422961</td>\n",
       "    </tr>\n",
       "    <tr>\n",
       "      <th>188625</th>\n",
       "      <td>6040</td>\n",
       "      <td>3819</td>\n",
       "      <td>1.422961</td>\n",
       "    </tr>\n",
       "  </tbody>\n",
       "</table>\n",
       "<p>188626 rows × 3 columns</p>\n",
       "</div>"
      ],
      "text/plain": [
       "        UserID  MovieID    Rating\n",
       "0            1      594 -0.188679\n",
       "1            1      661 -1.188679\n",
       "2            1      914 -1.188679\n",
       "3            1     1028  0.811321\n",
       "4            1     1035  0.811321\n",
       "...        ...      ...       ...\n",
       "188621    6040     3504  0.422961\n",
       "188622    6040     3543  0.422961\n",
       "188623    6040     3671  0.422961\n",
       "188624    6040     3751  0.422961\n",
       "188625    6040     3819  1.422961\n",
       "\n",
       "[188626 rows x 3 columns]"
      ]
     },
     "execution_count": 15,
     "metadata": {},
     "output_type": "execute_result"
    }
   ],
   "source": [
    "test_long = test_matrix.stack().reset_index()\n",
    "test_long.columns = ['UserID', 'MovieID', 'Rating']\n",
    "test_long"
   ]
  },
  {
   "cell_type": "code",
   "execution_count": 16,
   "metadata": {},
   "outputs": [],
   "source": [
    "# === Step 6: Fit UserKNN Model ===\n",
    "# Fill NaNs in train matrix with 0 for cosine similarity\n",
    "train_filled = train_matrix.fillna(0)\n",
    "\n",
    "# Compute cosine similarity between users\n",
    "similarity_matrix = cosine_similarity(train_filled)\n",
    "similarity_df = pd.DataFrame(similarity_matrix, index=train_filled.index, columns=train_filled.index)"
   ]
  },
  {
   "cell_type": "code",
   "execution_count": 20,
   "metadata": {},
   "outputs": [
    {
     "name": "stdout",
     "output_type": "stream",
     "text": [
      "\n",
      "Tuning k...\n",
      "k=5 → RMSE: 0.9328\n",
      "k=10 → RMSE: 0.8999\n",
      "k=15 → RMSE: 1.3862\n",
      "k=20 → RMSE: 0.8849\n",
      "k=25 → RMSE: 0.8825\n",
      "k=30 → RMSE: 0.8814\n",
      "k=35 → RMSE: 0.8846\n",
      "k=40 → RMSE: 0.8820\n",
      "k=45 → RMSE: 0.8888\n",
      "k=50 → RMSE: 0.9645\n",
      "\n",
      "✅ Best k: 30 with RMSE: 0.8814\n"
     ]
    }
   ],
   "source": [
    "# === Step 7b: Hyperparameter Tuning — Grid Search for k ===\n",
    "k_values = list(range(5, 51, 5))\n",
    "results = []\n",
    "\n",
    "print(\"\\nTuning k...\")\n",
    "for k in k_values:\n",
    "    predictions = []\n",
    "    actuals = []\n",
    "\n",
    "    for row in test_long.itertuples(index=False):\n",
    "        uid, iid, true_rating = row\n",
    "        pred = predict_rating(uid, iid, k=k)\n",
    "        if not np.isnan(pred):\n",
    "            predictions.append(pred)\n",
    "            actuals.append(true_rating)\n",
    "\n",
    "    rmse = mean_squared_error(actuals, predictions, squared=False)\n",
    "    results.append((k, rmse))\n",
    "    print(f\"k={k} → RMSE: {rmse:.4f}\")\n",
    "\n",
    "# Show best k\n",
    "best_k, best_rmse = min(results, key=lambda x: x[1])\n",
    "print(f\"\\nBest k: {best_k} with RMSE: {best_rmse:.4f}\")"
   ]
  },
  {
   "cell_type": "code",
   "execution_count": 24,
   "metadata": {},
   "outputs": [
    {
     "data": {
      "image/png": "[encoded data removed]",
      "text/plain": [
       "<Figure size 1000x500 with 1 Axes>"
      ]
     },
     "metadata": {},
     "output_type": "display_data"
    }
   ],
   "source": [
    "# Zet resultaten om in een DataFrame voor nettere plotting\n",
    "results_df = pd.DataFrame(results, columns=['k', 'RMSE'])\n",
    "\n",
    "# Plot\n",
    "plt.figure(figsize=(10, 5))\n",
    "plt.plot(results_df['k'], results_df['RMSE'], marker='o', linestyle='-', color='blue')\n",
    "plt.axvline(x=best_k, color='red', linestyle='--', label=f'Best k = {best_k}')\n",
    "plt.title('RMSE vs. Number of Neighbors (k)')\n",
    "plt.xlabel('Number of Neighbors (k)')\n",
    "plt.ylabel('RMSE')\n",
    "plt.xticks(results_df['k'])  # Zorg dat alle k-waarden als ticks staan\n",
    "plt.legend()\n",
    "plt.grid(True)\n",
    "plt.tight_layout()\n",
    "plt.show()"
   ]
  },
  {
   "cell_type": "code",
   "execution_count": 21,
   "metadata": {},
   "outputs": [
    {
     "name": "stdout",
     "output_type": "stream",
     "text": [
      "\n",
      "Re-running final predictions using k=30\n"
     ]
    },
    {
     "name": "stderr",
     "output_type": "stream",
     "text": [
      "188626it [02:05, 1501.44it/s]"
     ]
    },
    {
     "name": "stdout",
     "output_type": "stream",
     "text": [
      "\n",
      "Final UserKNN RMSE after tuning: 0.8814\n"
     ]
    },
    {
     "name": "stderr",
     "output_type": "stream",
     "text": [
      "\n"
     ]
    }
   ],
   "source": [
    "# === Step 8 (revisited): Predict on Test Set with Best k ===\n",
    "print(f\"\\nRe-running final predictions using k={best_k}\")\n",
    "predictions = []\n",
    "actuals = []\n",
    "\n",
    "for row in tqdm(test_long.itertuples(index=False)):\n",
    "    uid, iid, true_rating = row\n",
    "    pred = predict_rating(uid, iid, k=best_k)\n",
    "    if not np.isnan(pred):\n",
    "        predictions.append(pred)\n",
    "        actuals.append(true_rating)\n",
    "\n",
    "rmse = mean_squared_error(actuals, predictions, squared=False)\n",
    "print(f\"\\nFinal UserKNN RMSE after tuning: {rmse:.4f}\")"
   ]
  },
  {
   "cell_type": "code",
   "execution_count": 22,
   "metadata": {},
   "outputs": [
    {
     "name": "stdout",
     "output_type": "stream",
     "text": [
      "\n",
      "Final UserKNN RMSE: 0.8814\n"
     ]
    }
   ],
   "source": [
    "# === Step 9: Evaluate ===\n",
    "rmse = mean_squared_error(actuals, predictions, squared=False)\n",
    "print(f\"\\nFinal UserKNN RMSE: {rmse:.4f}\")"
   ]
  },
  {
   "cell_type": "code",
   "execution_count": null,
   "metadata": {},
   "outputs": [],
   "source": []
  }
 ],
 "metadata": {
  "kernelspec": {
   "display_name": "Python 3",
   "language": "python",
   "name": "python3"
  },
  "language_info": {
   "codemirror_mode": {
    "name": "ipython",
    "version": 3
   },
   "file_extension": ".py",
   "mimetype": "text/x-python",
   "name": "python",
   "nbconvert_exporter": "python",
   "pygments_lexer": "ipython3",
   "version": "3.12.0"
  }
 },
 "nbformat": 4,
 "nbformat_minor": 2
}
